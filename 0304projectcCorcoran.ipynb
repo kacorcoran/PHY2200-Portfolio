{
 "cells": [
  {
   "cell_type": "markdown",
   "metadata": {},
   "source": [
    "# Kyle Corcoran\n",
    "# Computational Project 03 and 04\n",
    "# 12/3/18"
   ]
  },
  {
   "cell_type": "markdown",
   "metadata": {},
   "source": [
    "## Introduction\n",
    "\n",
    "In class we have been looking at finite models of strings, and we have also used the Finite Difference Method, Finite Element Mehtod, and Wave Equation to explore these systems.  I decided to further explore some initial conditions using different superpositions of waves and see how that caused a system to evolve.  I also incorporated a free-ended Gaussian model becuase it gave me some extra inspiration to observe how different systems evolved.  A lot of the code included is code that we have written in class for examining the behavior of strings, so I will provide as much explanation as possible as to what each code segment does; I will also make sure to explain which of the code chunks I wrote specifically for this project and what they do. First I want to go into the theory behind the code that is to come later in the notebook."
   ]
  },
  {
   "cell_type": "markdown",
   "metadata": {},
   "source": [
    "# Theory for Free-Ended Gaussian\n",
    "\n",
    "##### Wave Equation\n",
    "With no external load, the displacement of a string at location $x$ and time $t$ is given by\n",
    "\n",
    "$$F_T\\frac{\\partial u^2(x,t)}{\\partial x^2}=\\rho \\frac{\\partial u^2(x,t)}{\\partial t^2}$$\n",
    "\n",
    "where $F_T$ is the tension and $\\rho$ is the linaer density $M/L$ of the string.  This can be written\n",
    "\n",
    "$$\\frac{\\partial u^2(x,t)}{\\partial x^2}= \\frac{1}{v^2} \\frac{\\partial u^2(x,t)}{\\partial t^2}$$\n",
    "\n",
    "where $v=\\sqrt{F_T/\\rho}$.\n",
    "\n",
    "##### FDM Solution\n",
    "Write each second derivative using FDM approximation. The second order approximation of the second partial derivative with respect to $x$ is\n",
    "\n",
    "$$\\frac{\\partial u^2(x,t)}{\\partial x^2} \\approx \\frac{u(x+h,t)-2u(x,t)+u(x-h,t)}{h^2}$$\n",
    "\n",
    "The second order approximation of the second partial derivative with respect to $t$ is\n",
    "\n",
    "$$\\frac{\\partial u^2(x,t)}{\\partial t^2} \\approx \\frac{u(x,t+\\Delta t)-2u(x,t)+u(x,t-\\Delta t)}{\\Delta t^2}$$\n",
    "\n",
    "Use the subscript $m$ to indicate the $m^{th}$ index of the grid position $x_m$. Use the superscript $n$ to indicate the $n^{th}$ step in time. Then the wave equation is\n",
    "\n",
    "$$\\frac{u(x+h,t)-2u(x,t)+u(x-h,t)}{h^2} = \\frac{1}{v^2} \\frac{u(x,t+\\Delta t)-2u(x,t)+u(x,t-\\Delta t)}{\\Delta t^2}$$\n",
    "\n",
    "$$\\frac{u_{m-1}^n-2u_{m}^n+u_{m+1}^n}{h^2} = \\frac{1}{v^2} \\frac{u_{m}^{n-1}-2u_{m}^n+u_{m}^{n+1}}{\\Delta t^2} $$\n",
    "\n",
    "\n",
    "The indices with $m$ represent grid points. The superscripts with $n$ are the evolution in time. The goal is to step forward in time. Thus, solve for $u_{m}^{n+1}$.\n",
    "\n",
    "$$u_{m}^{n+1} = 2(1-\\beta^2)u_m^n - u_m^{n-1} + \\beta^2(u_{m-1}^n+u_{m+1}^n)$$\n",
    "\n",
    "where $\\beta=\\frac{v\\Delta t}{h}$. To evolve in time, we use two arrays to hold the solutions to $u(x)$ at all grid points at times $t_{n-1}$ and $t_n$, advance the solution to $t_{n+1}$ and store it in a third array, then swap the appropriate arrays to advance to $t_{n+2}$, and so on."
   ]
  },
  {
   "cell_type": "markdown",
   "metadata": {},
   "source": [
    "# Theory for Finite Model of a String\n",
    "\n",
    "Instead of going through the N-atoms theory, I thought it would be beneficial to see the theory for just three masses, knowing that the process is the same modulo a larger matrix for the N-atoms case.  For three masses connected by four springs and two walls at the boundaries, the equations of motion for the displacement $u_i$ for each mass $m_i$ are:\n",
    "\n",
    "$$m_1\\ddot{u}_1 = -ku_1-k(u_1-u_2)=-2ku_1+ku_2$$\n",
    "\n",
    "$$m_2\\ddot{u}_2 = -k(u_2-u_1)-k(u_2-u_3)=ku_1-2ku_2+ku_3$$\n",
    "\n",
    "$$m_3\\ddot{u}_3 = -k(u_3-u_2)-ku_3=ku_2-2ku_3$$\n",
    "\n",
    "Let's assume the masses oscillate vertically. In this case $k=F_T/L_0$ where $F_T$ is the tension in the \"string\" and $L_0$ is the nominal distance between masses (\"atoms\").\n",
    "\n",
    "Suppose that there is a set of initial conditions that results in motion where each mass oscillates with a frequency $\\omega$ and the displacement of each mass $m_i$ is described by a single sinusoidal function:\n",
    "\n",
    "$$u_i = a_i \\cos(\\omega t + \\phi)$$\n",
    "\n",
    "Substituting this into the differential equations above gives:\n",
    "\n",
    "$$2ka_1-ka_2 + 0 = m_1\\omega^2a_1$$\n",
    "\n",
    "$$-ka_1+2ka_2 - ka_3 = m_2\\omega^2a_2$$\n",
    "\n",
    "$$0 -ka_2 + 2ka_3 = m_3\\omega^2a_3$$\n",
    "\n",
    "It is written in this way to make it more obvious that we can express these equations with matrices.\n",
    "\n",
    "$$\n",
    "\\left[ {\\begin{array}{ccc}\n",
    "   2k & -k & 0 \\\\\n",
    "   -k & 2k & -k \\\\\n",
    "   0 & -k & 2k \\\\\n",
    "  \\end{array} } \\right]\n",
    "\\left[ {\\begin{array}{c}\n",
    "    a_1 \\\\\n",
    "    a_2 \\\\\n",
    "    a_3 \\\\\n",
    "  \\end{array} } \\right]\n",
    "  = \\omega^2\n",
    "\\left[ {\\begin{array}{ccc}\n",
    "   m_1 & 0 & 0 \\\\\n",
    "   0 & m_2 & 0 \\\\\n",
    "   0 & 0 & m_3 \\\\\n",
    "  \\end{array} } \\right]\n",
    "\\left[ {\\begin{array}{c}\n",
    "    a_1 \\\\\n",
    "    a_2 \\\\\n",
    "    a_3 \\\\\n",
    "  \\end{array} } \\right]\n",
    "$$\n",
    "\n",
    "Define $\\lambda=\\omega^2$, then\n",
    "\n",
    "$$[A-\\lambda B]\\vec{a}$$\n",
    "\n",
    "where $\\lambda$ is called the eigenvalue and $\\vec{a}$ is called the eigenvector. To find the frequencies, solve for the eigenvalues using\n",
    "\n",
    "$$\\det\\left[ A-\\lambda B\\right]=0$$\n",
    "\n",
    "$$\\left | {\\begin{array}{ccc}\n",
    "   2k-\\lambda m_1 & -k & 0 \\\\\n",
    "   -k & 2k-\\lambda m_2 & -k \\\\\n",
    "   0 & -k & 2k-\\lambda m_3 \\\\\n",
    "  \\end{array} } \\right |$$\n",
    "  \n",
    "There are three eigenvalues. Substitute each eigenvalue back into the equations of motion above and solve for its corresponding eigenvector:\n",
    "\n",
    "$$ \\vec{a}=\n",
    "\\left[ {\\begin{array}{c}\n",
    "    a_1 \\\\\n",
    "    a_2 \\\\\n",
    "    a_3 \\\\\n",
    "  \\end{array} } \\right]\n",
    "$$\n",
    "\n",
    "Write the general analytic solution for the triatomic molecule as a sum of the normal modes.\n",
    "\n",
    "$$\n",
    "\\left[ {\\begin{array}{c}\n",
    "    u_1 \\\\\n",
    "    u_2 \\\\\n",
    "    u_3 \\\\\n",
    "  \\end{array} } \\right]\n",
    "  = A_0\n",
    "\\left[ {\\begin{array}{c}\n",
    "    a_{00} \\\\\n",
    "    a_{10} \\\\\n",
    "    a_{20} \\\\\n",
    "  \\end{array} } \\right]\n",
    "  \\cos(\\omega_0t + \\phi_0)\n",
    "+ A_1\n",
    "\\left[ {\\begin{array}{c}\n",
    "    a_{01} \\\\\n",
    "    a_{11} \\\\\n",
    "    a_{21} \\\\\n",
    "  \\end{array} } \\right]\n",
    "  \\cos(\\omega_1t + \\phi_1)\n",
    "+ A_2\n",
    "\\left[ {\\begin{array}{c}\n",
    "    a_{02} \\\\\n",
    "    a_{12} \\\\\n",
    "    a_{22} \\\\\n",
    "  \\end{array} } \\right]\n",
    "  \\cos(\\omega_1t + \\phi_2)\n",
    "$$\n",
    "\n",
    "The constants $A_0,\\ A_1,\\ A_2, \\phi_0,\\ \\phi_1,\\ \\phi_2$ depend on the initial conditions of the atoms.\n",
    "\n",
    "First, let's set the initial velocities of all atoms to zero so the phases are zero.\n",
    "\n",
    "\n",
    "Now, let's solve for $A_0,\\ A_1,\\ A_2$ based on the initial positions of the atoms. At $t=0$, \n",
    "\n",
    "$$u_1=u_{1i}=A_0a_{00} + A_1a_{01} + A_2a_{02}$$\n",
    "\n",
    "$$u_2=u_{2i}=A_0a_{10} + A_1a_{11} + A_2a_{12}$$\n",
    "\n",
    "$$u_3=u_{3i}=A_0a_{20} + A_1a_{21} + A_2a_{22}$$\n",
    "\n",
    "We have three equations and three unknowns. Use linear algebra.\n",
    "\n",
    "$$\n",
    "\\left[ {\\begin{array}{ccc}\n",
    "   a_{00} & a_{01} & a_{02} \\\\\n",
    "   a_{10} & a_{11} & a_{22} \\\\\n",
    "   a_{20} & a_{21} & a_{22} \\\\\n",
    "  \\end{array} } \\right]\n",
    "\\left[ {\\begin{array}{c}\n",
    "    A_0 \\\\\n",
    "    A_1 \\\\\n",
    "    A_2 \\\\\n",
    "  \\end{array} } \\right]\n",
    "  = \n",
    "\\left[ {\\begin{array}{c}\n",
    "    u_{1i} \\\\\n",
    "    u_{2i} \\\\\n",
    "    u_{3i} \\\\\n",
    "  \\end{array} } \\right]\n",
    "$$\n",
    "\n",
    "The numpy function `numpy.linalg.solve()` will solve this equation and return the coefficients:\n",
    "\n",
    "$$\n",
    "\\left[ {\\begin{array}{c}\n",
    "    A_0 \\\\\n",
    "    A_1 \\\\\n",
    "    A_2 \\\\\n",
    "  \\end{array} } \\right]\n",
    "$$\n",
    "\n",
    "Using these same concepts, we can generalize the sysem to N-atoms and use the model to analyze a super-position of waves."
   ]
  },
  {
   "cell_type": "markdown",
   "metadata": {},
   "source": [
    "# Creating the Code\n",
    "\n",
    "Now that we have all the theory to solve these situations, we can create the models with our code."
   ]
  },
  {
   "cell_type": "markdown",
   "metadata": {},
   "source": [
    "### Packages and Functions\n",
    "\n",
    "There are a lot different functions that are necessary for conducting this project, so I'm going to explain what all of them do.  Below are some fairly standard packages that we are using to do math and plot things."
   ]
  },
  {
   "cell_type": "code",
   "execution_count": 26,
   "metadata": {},
   "outputs": [],
   "source": [
    "import numpy as np\n",
    "import matplotlib.pyplot as plt\n",
    "import ode\n",
    "from scipy.optimize import curve_fit\n",
    "from scipy.linalg import eigh"
   ]
  },
  {
   "cell_type": "markdown",
   "metadata": {},
   "source": [
    "These two functions below are used for the free ended Gaussian.  The gaussian funciton is used to make a Gaussian shape on the string, and the wavemotion moves the Gaussian to the right."
   ]
  },
  {
   "cell_type": "code",
   "execution_count": 2,
   "metadata": {},
   "outputs": [],
   "source": [
    "def wavemotion(u0, u1):\n",
    "    u2 = 2*(1-b)*u1 - u0                     # unshifted terms \n",
    "    u2[1:-1] += b*( u1[0:-2] + u1[2:] )      # left, right \n",
    "    return u2\n",
    "\n",
    "def gaussian(x):\n",
    "    return np.exp(-(x-5)**2)\n"
   ]
  },
  {
   "cell_type": "markdown",
   "metadata": {},
   "source": [
    "The below is used to play the videos of the animations we will make."
   ]
  },
  {
   "cell_type": "code",
   "execution_count": 3,
   "metadata": {},
   "outputs": [],
   "source": [
    "from IPython.display import HTML\n",
    "\n",
    "def playVideo(path):\n",
    "    return HTML(\"\"\"\n",
    "                <video width=\"320\" height=\"240\" controls>\n",
    "                  <source src=\"{}\" type=\"video/mp4\">\n",
    "                </video>\n",
    "                \"\"\".format(path))"
   ]
  },
  {
   "cell_type": "markdown",
   "metadata": {},
   "source": [
    "Used to animate the evolution of the systems."
   ]
  },
  {
   "cell_type": "code",
   "execution_count": 4,
   "metadata": {},
   "outputs": [],
   "source": [
    "from mplEasyAnimate import animation\n",
    "from tqdm import tqdm"
   ]
  },
  {
   "cell_type": "markdown",
   "metadata": {},
   "source": [
    "The below animates the motion of the Gaussian as it moves through time."
   ]
  },
  {
   "cell_type": "code",
   "execution_count": 5,
   "metadata": {},
   "outputs": [],
   "source": [
    "def easyanimate_gauss(t_array, u_array, filename):\n",
    "    xa = np.linspace(0., L, N+1)\n",
    "\n",
    "    t_offsets = t_array\n",
    "    anim = animation(filename)\n",
    "    i=0\n",
    "    for offset in tqdm(t_offsets):\n",
    "        fig, ax = plt.subplots(1, 1, figsize=(10, 7))\n",
    "        ax.plot(xa, u_array[i,:])\n",
    "        ax.set_xlim(0,L)\n",
    "        ax.set_ylim(-2,2)\n",
    "        \n",
    "        anim.add_frame(fig)\n",
    "        plt.close(fig)\n",
    "        i=i+1\n",
    "    anim.close()  "
   ]
  },
  {
   "cell_type": "markdown",
   "metadata": {},
   "source": [
    "The below function goes through the wave that I generate and solves for the coefficients of the individual sine waves.  This function is building matrices that it will go through and find the eigenvalues and eigenvectors for, also acquiring the eigenfrequencies for each normal mode.  The eigenfrequencies and normal mode coefficients will play a role later in the project."
   ]
  },
  {
   "cell_type": "code",
   "execution_count": 6,
   "metadata": {},
   "outputs": [],
   "source": [
    "def normal_modes(Natoms, ks, mass, ui, udoti, t_total):\n",
    "    global N, k, m\n",
    "    N=Natoms\n",
    "    k=ks\n",
    "    m=mass\n",
    "    \n",
    "    #Build matrices\n",
    "    A=np.zeros((Natoms,Natoms))\n",
    "\n",
    "    for i in range(Natoms):\n",
    "        A[i,i] = 2*ks\n",
    "        if i==0:\n",
    "            A[0,i+1]=-ks\n",
    "        elif i==Natoms-1:\n",
    "            A[i,i-1]=-ks\n",
    "        else:\n",
    "            A[i,i-1]=-ks\n",
    "            A[i,i+1]=-ks\n",
    "\n",
    "    B=mass*np.identity(Natoms)\n",
    "\n",
    "    #find eigenvalues and eigenvectors\n",
    "    lamb, a = eigh(A, B)        # eigenvalues and eigenvectors  \n",
    "    #print(\"eigenvalues (omega^2):\", lamb)\n",
    "    #print(\"eigenvectors are column vectors in:\\n\\n\", a)\n",
    "\n",
    "    #Find coefficients for normal modes\n",
    "    Acoeffs = np.linalg.solve(a,ui)\n",
    "\n",
    "    #print(Acoeffs)\n",
    "    \n",
    "    #build the general solution\n",
    "    t = np.linspace(0,t_total,1000)\n",
    "\n",
    "    omegas = np.sqrt(lamb)\n",
    "    u_atoms = np.zeros((Natoms,len(t)))\n",
    "\n",
    "    for i in range(Natoms):\n",
    "        for w in range(0,len(omegas)):\n",
    "            u_atoms[i] = u_atoms[i] + Acoeffs[w]*a[i,w]*np.cos(omegas[w]*t)\n",
    "\n",
    "    return omegas, a, u_atoms, t, Acoeffs"
   ]
  },
  {
   "cell_type": "markdown",
   "metadata": {},
   "source": [
    "This funciton can be used to plot the different normal modes that the system has. You simply pass the mode that you want along with the eigenfrequencies and eigenvectors, and it will plot that mode for you."
   ]
  },
  {
   "cell_type": "code",
   "execution_count": 7,
   "metadata": {},
   "outputs": [],
   "source": [
    "def plot_mode_teq0(mode, freqs, vecs): #plot normal mode at t=0\n",
    "    \n",
    "    u_mode = vecs[:,mode]\n",
    "    u_mode_with_boundary=np.insert(u_mode,0,0) #add 0 to beginning of array\n",
    "    u_mode_with_boundary=np.append(u_mode_with_boundary,0) #add 0 to end of array\n",
    "    xa = np.linspace(0,L,Natoms+2)\n",
    "        \n",
    "    plt.figure()\n",
    "    plt.title(\"normal mode %d\" % mode)\n",
    "    plt.plot(xa,u_mode_with_boundary, 'b-', label='u_i')\n",
    "    plt.xlabel('x (m)')\n",
    "    plt.ylabel('y (m)')\n",
    "    plt.legend(loc='lower right')\n",
    "    plt.show()\n"
   ]
  },
  {
   "cell_type": "markdown",
   "metadata": {},
   "source": [
    "This function plots the normal mode of the equation at $t = 0$.  This allows us to see how the function starts before we evlove it in time."
   ]
  },
  {
   "cell_type": "code",
   "execution_count": 8,
   "metadata": {},
   "outputs": [],
   "source": [
    "def plot_ui0(u_i): #plot normal mode at t=0\n",
    "    \n",
    "    u_with_boundary=np.insert(u_i,0,0) #add 0 to beginning of array\n",
    "    u_with_boundary=np.append(u_with_boundary,0) #add 0 to end of array\n",
    "    xa = np.linspace(0,L,Natoms+2)\n",
    "        \n",
    "    plt.figure()\n",
    "    plt.title(\"u (t=0)\")\n",
    "    plt.plot(xa,u_with_boundary, 'b-', label='u')\n",
    "    plt.xlabel('x (m)')\n",
    "    plt.ylabel('y (m)')\n",
    "    plt.legend(loc='lower right')\n",
    "    plt.show()"
   ]
  },
  {
   "cell_type": "markdown",
   "metadata": {},
   "source": [
    "This is a function that I wrote which will give you the ability to generate an arbitrary amount of sine waves with arbitrary coefficients that add together in superposition. The reason that this is useful is to create systems that have interesting intial conditions which evolve in time much differently than waves created by a normal string or even a plucked string.  In principle, one could create any function to evolve in time; however, I was interested in how large superpositions of sine waves would behave.  Also, by giving the indivual waves random coefficients, we can use a technique to extract the coefficients.  This method, which is similar to taking a Fourier Transform in many ways, could be useful when one might wish to determine parameters of a system using linear algebra rather than large scale Fourier Series."
   ]
  },
  {
   "cell_type": "code",
   "execution_count": 15,
   "metadata": {},
   "outputs": [],
   "source": [
    "def make_sin(xi,L,Num): #passes the xpositions of the wave, the length of the string, and the possible number of sine waves\n",
    "    sines = []          #that one would potentially want to create a superposition of.\n",
    "    j=1\n",
    "    while j<Num:\n",
    "        sines.append(j)  #creates a list of possible number of sine waves to be summed\n",
    "        j+=1\n",
    "    N = np.random.choice(sines)  #chooses at random the number of waves that will be summed\n",
    "    i=1\n",
    "    u_i=0\n",
    "    Ams = []\n",
    "    while i<N: # this loop creates and sums the waves together\n",
    "        e = np.random.choice([-2,-1,1,2])  #randomly assigns coefficients - each is multiplied by something from the left \n",
    "        A = e*np.random.rand(1)            #array to help make the coefficients stand out a little more\n",
    "        #print(A)\n",
    "        new = A*np.sin((i*np.pi/L)*xi)\n",
    "        u_i= u_i+new\n",
    "        #print(u_i)\n",
    "        Ams.append(A)\n",
    "        i+=1\n",
    "    \n",
    "    return N, u_i  #returns the Number of waves used and the time evolution of the system"
   ]
  },
  {
   "cell_type": "markdown",
   "metadata": {},
   "source": [
    "This function uses the module mplEasyAnimate created by Thomas Boudreaux to create an animation which shows how the system evolves over time.  "
   ]
  },
  {
   "cell_type": "code",
   "execution_count": 10,
   "metadata": {},
   "outputs": [],
   "source": [
    "def easyanimate_string(t_array, u_array, filename):\n",
    "    xa = np.linspace(L0,L-L0,Natoms)\n",
    "\n",
    "    t_offsets = t_array\n",
    "    anim = animation(filename)\n",
    "    i=0\n",
    "    for offset in tqdm(t_offsets):\n",
    "        fig, ax = plt.subplots(1, 1, figsize=(10, 7))\n",
    "        ax.plot(xa, u_array[:,i])\n",
    "        ax.set_xlim(0,L)\n",
    "        ax.set_ylim(-4,4) #i made this large but may need to be changed depending on the wave \n",
    "        \n",
    "        anim.add_frame(fig)\n",
    "        plt.close(fig)\n",
    "        i=i+1\n",
    "    anim.close()  "
   ]
  },
  {
   "cell_type": "code",
   "execution_count": null,
   "metadata": {},
   "outputs": [],
   "source": []
  },
  {
   "cell_type": "markdown",
   "metadata": {},
   "source": [
    "### Free ended Gaussian\n",
    "\n",
    "This is the code that originally inspired me to work with large superpositions of waves.  I spent quite a while identifying the boundary conditions in this code from our notebook 03-05 where we solved the wave equation for a string.  To create a free end, I added a statement which sets the last element of the array to be the same as the second to last value rather than assuming it is zero like before.  This allowed the string to evolve with the Gaussian moving to the right while changing the way it behaved at the boundary.  Instead of reflecting off the boudnary as it does with the fixed one on the left, the Gaussian acts as a seeming superposition of two Gaussians passing through each other from opposite directions.  This is why the amplitude increases largely before the Gaussian appears to travel backwards toward the left."
   ]
  },
  {
   "cell_type": "code",
   "execution_count": 11,
   "metadata": {},
   "outputs": [
    {
     "data": {
      "text/plain": [
       "(201, 101)"
      ]
     },
     "execution_count": 11,
     "metadata": {},
     "output_type": "execute_result"
    }
   ],
   "source": [
    "L, N = 10, 100           # length of string, number of intervals\n",
    "b = 1.0                    # beta^2\n",
    "h = L/N\n",
    "\n",
    "t_total = 20\n",
    "N_t = 200 #number of time intervals\n",
    "dt = t_total/N_t\n",
    "t = 0\n",
    "ta = np.linspace(0,t_total,N_t+1)\n",
    "\n",
    "x = np.linspace(0, L, N+1)\n",
    "u0 = gaussian(x)\n",
    "u1 = gaussian(x-b*h)\n",
    "\n",
    "data = np.zeros((N_t+1,N+1))  #columns are u at grid points\n",
    "data[0]=u0\n",
    "data[1]=u1\n",
    "\n",
    "for i in range(N_t):\n",
    "    u2 = wavemotion(u0, u1)\n",
    "    u2[N]=u2[N-1]  #creates the free end\n",
    "    u0, u1 = u1, u2\n",
    "    data[i]=u2\n",
    "\n",
    "data.shape\n"
   ]
  },
  {
   "cell_type": "code",
   "execution_count": 12,
   "metadata": {},
   "outputs": [
    {
     "name": "stderr",
     "output_type": "stream",
     "text": [
      "100%|████████████████████████████████████████████████████████████████████████████████| 201/201 [00:43<00:00,  4.60it/s]\n"
     ]
    }
   ],
   "source": [
    "file='free_end_gauss.mp4'\n",
    "easyanimate_gauss(ta,data,file)"
   ]
  },
  {
   "cell_type": "code",
   "execution_count": 13,
   "metadata": {},
   "outputs": [
    {
     "data": {
      "text/html": [
       "\n",
       "                <video width=\"320\" height=\"240\" controls>\n",
       "                  <source src=\"free_end_gauss.mp4\" type=\"video/mp4\">\n",
       "                </video>\n",
       "                "
      ],
      "text/plain": [
       "<IPython.core.display.HTML object>"
      ]
     },
     "execution_count": 13,
     "metadata": {},
     "output_type": "execute_result"
    }
   ],
   "source": [
    "playVideo(file)"
   ]
  },
  {
   "cell_type": "markdown",
   "metadata": {},
   "source": [
    "## Evolving a superpostion of waves\n",
    "\n",
    "In this section, I have modified some of the code from our 03-03 finite models of string code to create and evolve a superposition of waves with random coefficients.  This process is interesting as it presents us with the opportunity to explore extremely unique initial conditions of a system.  \n",
    "\n",
    "In addition, we have written code that uses linear algebra to solve for the eigenvalues, eigenfrequencies, eigenvectors, and coefficients of waves, which allows us to extract useful information from a system without knowing the conditions that created it.  This is done through a process similar to a Fourier Transform; after I solve for the eigenfrequencies and coefficients, I can make a plot of amplitude vs. eigenfrequency which tells me the conditions that created the system that we want to evolve.  This could be a useful method for understanding system and pulling out resonant modes of different systems without committing to full FTs.  \n",
    "\n",
    "I also evolve the system over time, seeing if any interesting conditions emerge.  The initial conditions of these more complex systems give rise to very interesting time evolutions.  As when you run the code below it creates a new system every time, I have not modularized it.  Simply rerunning the cells accomplishes the same task quicker and in less time that retyping in my opinion.  I highly encourage you to see how these systems evolve and see if you can get a sense for how the waves might react differently than simpler systems."
   ]
  },
  {
   "cell_type": "code",
   "execution_count": 19,
   "metadata": {},
   "outputs": [
    {
     "name": "stdout",
     "output_type": "stream",
     "text": [
      "The number of waves in superposition is 12\n"
     ]
    }
   ],
   "source": [
    "Natoms = 50\n",
    "ks = 1\n",
    "mass = 1\n",
    "L = 1\n",
    "L0 = L/(Natoms+1)\n",
    "F_T = ks*L0\n",
    "t_tot = 5*10*np.pi\n",
    "\n",
    "xi=np.linspace(L0,L-L0,Natoms)\n",
    "\n",
    "Nsin,u_i = make_sin(xi,L,15)  #i have passed in 15, so you could potentially get a 15 sine wave superpostion\n",
    "udot_i = np.zeros(Natoms)     #keep in mind that the N you pass must be less than or equal to the number for Natoms.\n",
    "#print(u_i)                     you can change the number if you would like larger superpositions\n",
    "eig_freq, eig_vec, u, ta,As = normal_modes(Natoms, ks, mass, u_i, udot_i, t_tot)\n",
    "print('The number of waves in superposition is',Nsin)"
   ]
  },
  {
   "cell_type": "code",
   "execution_count": 21,
   "metadata": {},
   "outputs": [
    {
     "data": {
      "image/png": "[encoded data removed]",
      "text/plain": [
       "<matplotlib.figure.Figure at 0x19247c66860>"
      ]
     },
     "metadata": {},
     "output_type": "display_data"
    }
   ],
   "source": [
    "plot_mode_teq0(6,eig_freq,eig_vec) #allows you to plot different normal modes - just change the number to which mode you want"
   ]
  },
  {
   "cell_type": "code",
   "execution_count": 22,
   "metadata": {},
   "outputs": [
    {
     "data": {
      "image/png": "[encoded data removed]",
      "text/plain": [
       "<matplotlib.figure.Figure at 0x1924a1d8ef0>"
      ]
     },
     "metadata": {},
     "output_type": "display_data"
    }
   ],
   "source": [
    "plot_ui0(u_i)  #creates a plot of the system at t=0"
   ]
  },
  {
   "cell_type": "markdown",
   "metadata": {},
   "source": [
    "Below is the code that creates a plot of amplitude vs. eigenfrequency.  This will look similar to an FT because it is showing the coefficient that went into creating each sine wave for each of the normal modes."
   ]
  },
  {
   "cell_type": "code",
   "execution_count": 23,
   "metadata": {},
   "outputs": [
    {
     "data": {
      "text/plain": [
       "<matplotlib.text.Text at 0x1924a422080>"
      ]
     },
     "execution_count": 23,
     "metadata": {},
     "output_type": "execute_result"
    },
    {
     "data": {
      "image/png": "[encoded data removed]",
      "text/plain": [
       "<matplotlib.figure.Figure at 0x1924a393438>"
      ]
     },
     "metadata": {},
     "output_type": "display_data"
    }
   ],
   "source": [
    "plt.figure(figsize=(9,7))\n",
    "plt.bar(eig_freq,As,align='center',width=0.03)\n",
    "plt.axhline(0,color='black')\n",
    "plt.xlabel('Eigenfrequency')\n",
    "plt.ylabel('Amplitude')"
   ]
  },
  {
   "cell_type": "code",
   "execution_count": 24,
   "metadata": {},
   "outputs": [
    {
     "name": "stderr",
     "output_type": "stream",
     "text": [
      "100%|██████████████████████████████████████████████████████████████████████████████| 1000/1000 [03:43<00:00,  4.47it/s]\n"
     ]
    }
   ],
   "source": [
    "file='time_evolution.mp4'\n",
    "easyanimate_string(ta,u,file)  #animates the time-evolution - keep in mind that you may need to change the ylim in \n",
    "                               #the function to see what is happening for different systems"
   ]
  },
  {
   "cell_type": "code",
   "execution_count": 25,
   "metadata": {},
   "outputs": [
    {
     "data": {
      "text/html": [
       "\n",
       "                <video width=\"320\" height=\"240\" controls>\n",
       "                  <source src=\"time_evolution.mp4\" type=\"video/mp4\">\n",
       "                </video>\n",
       "                "
      ],
      "text/plain": [
       "<IPython.core.display.HTML object>"
      ]
     },
     "execution_count": 25,
     "metadata": {},
     "output_type": "execute_result"
    }
   ],
   "source": [
    "playVideo(file)"
   ]
  },
  {
   "cell_type": "markdown",
   "metadata": {},
   "source": [
    "# Summary\n",
    "I set out to further analyze how initial conditions affect string models with varying numbers of waves.  I first showed you the code that inspired me to pursue this project by creating a free-ended Gaussian model that moved and evolved over time.  I then created a function that generated a superposition of waves, and I used linear algebra to solve for many parameters of the system, creating a plot of amplitude vs. eigenfrequency that works similarly to a Fourier transform.  These systems show interesting time evolutions, so I hope that you find fun in reruninng the code to get different superpostions and time evolutions."
   ]
  },
  {
   "cell_type": "code",
   "execution_count": null,
   "metadata": {},
   "outputs": [],
   "source": []
  }
 ],
 "metadata": {
  "kernelspec": {
   "display_name": "Python 3",
   "language": "python",
   "name": "python3"
  },
  "language_info": {
   "codemirror_mode": {
    "name": "ipython",
    "version": 3
   },
   "file_extension": ".py",
   "mimetype": "text/x-python",
   "name": "python",
   "nbconvert_exporter": "python",
   "pygments_lexer": "ipython3",
   "version": "3.6.1"
  }
 },
 "nbformat": 4,
 "nbformat_minor": 2
}
