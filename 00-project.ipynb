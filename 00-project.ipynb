{
 "cells": [
  {
   "cell_type": "markdown",
   "metadata": {},
   "source": [
    "# Table of Contents\n",
    "* [1. Unit 00 Project -- Fourier Series](#1.-Unit-00-Project----Fourier-Series)\n",
    "\t* [1.1 Option 1](#1.1-Option-1)\n",
    "\t\t* [1.1.1 Project Description](#1.1.1-Project-Description)\n",
    "\t* [1.2 Option 2](#1.2-Option-2)\n",
    "\t* [1.3 Option 3](#1.3-Option-3)\n"
   ]
  },
  {
   "cell_type": "markdown",
   "metadata": {},
   "source": [
    "# 1. Unit 00 Project -- Fourier Series"
   ]
  },
  {
   "cell_type": "markdown",
   "metadata": {},
   "source": [
    "## 1.1 Option 1"
   ]
  },
  {
   "cell_type": "markdown",
   "metadata": {},
   "source": [
    "### 1.1.1 Project Description"
   ]
  },
  {
   "cell_type": "markdown",
   "metadata": {},
   "source": [
    "In this project, you will write a tutorial that demonstrates through examples that a periodic function can be written as a Fourier Series.\n",
    "\n",
    "Your project should:\n",
    "\n",
    "- weave narrative with code.\n",
    "- reference at least two sources, one of which must be a book available through our library.\n",
    "- include background theory with LaTeX to render mathematical notation.\n",
    "- demonstrate defined functions, packages, loops, numpy arrays, and numpy functions, as needed. Basically, use what you've learned in this unit.\n",
    "\n",
    "The tutorial should be of sufficient quality to post to github in your portfolio of work that can be shown to a potential employer.\n",
    "\n",
    "In addition, you should show how a Fourier Series can be used to fit data, I have included a file [dataset.txt](dataset.txt) that has data for voltage as a function of time for a signal of the form: \n",
    "\n",
    "$$V(t)=a_1\\sin(\\omega t)+a_2\\sin(2\\omega t)+a_3\\sin(3\\omega t)+a_4\\sin(4\\omega t)$$\n",
    "\n",
    "Through trial and error or a curve fit, you can find the coefficients $a_1$, $a_2$, $a_3$, $a_4$, and $\\omega$ that fit the data.\n",
    " \n",
    "<div class=\"alert alert-success\">\n",
    "Note: You are demonstrating Fouries Series, not a doing a Fourier Transform. Please do not use a FFT (Fast Fourier Transform) in your tutorial. You can use solved examples. You can also generate arbitrary functions. You do not have to solve for the coefficients and frequencies in a given periodic function or dataset.\n",
    "</div>"
   ]
  },
  {
   "cell_type": "markdown",
   "metadata": {},
   "source": [
    "## 1.2 Option 2"
   ]
  },
  {
   "cell_type": "markdown",
   "metadata": {},
   "source": [
    "For a more advanced challenge:\n",
    "\n",
    "- do Option 1 using Python's complex numbers and write the series using complex coefficients.\n",
    "- use an audio package to play a sound that corresponds to the Fourier series.\n",
    "- add widgets for interactivity. (e.g. [00-interaction.ipynb](00-interaction.ipynb))\n",
    "- add animation. (e.g. [03.2 Animating a Time-Dependent Function with Matplotlib.ipynb](https://github.com/atitus/Jupyter-Tutorials/blob/master/03.2%20Animating%20a%20Time-Dependent%20Function%20with%20Matplotlib.ipynb); [Fourier Tutorial by Wolfgang Christian and Kyle Forinash](http://pages.iu.edu/~kforinas/WJS/FourierJS.html))"
   ]
  },
  {
   "cell_type": "markdown",
   "metadata": {},
   "source": [
    "## 1.3 Option 3"
   ]
  },
  {
   "cell_type": "markdown",
   "metadata": {},
   "source": [
    "Define your own project for this unit. Your project should:\n",
    "\n",
    "1. define and use at least one function\n",
    "2. use numpy arrays\n",
    "3. fit a model to data\n",
    "4. plot data and a mathematical function\n"
   ]
  },
  {
   "cell_type": "markdown",
   "metadata": {},
   "source": [
    "## Grading Rubric\n",
    "\n",
    "Category | Poor (0-70%) | Good (70% - 85%) | Excellent (85%-100%)\n",
    ":---: | :--- | :--- | :---\n",
    "**Narrative** | There is very little narrative. Background information is not present or lacks detail. There is no story woven with the code. Mathematical markup is not used. No citations are included. | There is a narrative, but significant parts are missing. The writing does not flow. Sections headings are sparse. Mathematical markup is poor or insufficient. More and better citations are needed. | There is flow, and a clear storyline. Section headings are used to provide an outline. Mathematical markup is used correctly and sufficiently to display mathematics. Citations are sufficient in number and quality.\n",
    "**Code** | Code is missing or is not functional. Nothing is done to demonstrate that the code is operating correctly. Code is difficult to read. Results are missing or seriously incomplete. Visualization is not included. Units are inconsistent or incorrect. Algorithm is implemented incorrectly or the wrong algorithm chosen. There is significant error. | Code is mostly correct and the implementation or algorithm is a good method to use. Visualization is present, but titles and axes labels need improvement or visualization can be improved. Code is understandable and somewhat commented. Units are mostly consistent and correct.| The code runs flawlessly and is well-organized. The code is easy to read and understand. Units are indicated, consistent, and correct. Visualization is excellent. Techniques and algorithms are well-chosen and correctly implemented. Results are clear and understandable.\n",
    "**Difficulty** | The difficulty level is far beneath what one is capable of | The difficulty level is beneath what one is capable of. | The difficulty is well-matched to one's ablity."
   ]
  },
  {
   "cell_type": "code",
   "execution_count": null,
   "metadata": {},
   "outputs": [],
   "source": []
  }
 ],
 "metadata": {
  "kernelspec": {
   "display_name": "Python 3",
   "language": "python",
   "name": "python3"
  },
  "language_info": {
   "codemirror_mode": {
    "name": "ipython",
    "version": 3
   },
   "file_extension": ".py",
   "mimetype": "text/x-python",
   "name": "python",
   "nbconvert_exporter": "python",
   "pygments_lexer": "ipython3",
   "version": "3.6.1"
  }
 },
 "nbformat": 4,
 "nbformat_minor": 2
}
